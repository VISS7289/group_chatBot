{
 "cells": [
  {
   "cell_type": "code",
   "execution_count": 1,
   "id": "7ade486f",
   "metadata": {},
   "outputs": [
    {
     "name": "stdout",
     "output_type": "stream",
     "text": [
      "Start preparing training data ...\n",
      "Reading lines...\n",
      "Read 221282 sentence pairs\n",
      "Trimmed to 64271 sentence pairs\n",
      "Counting words...\n",
      "Counted words: 18008\n",
      "keep_words 7823 / 18005 = 0.4345\n",
      "Trimmed from 64271 pairs to 53165, 0.8272 of total\n"
     ]
    }
   ],
   "source": [
    "from myChat import myChat"
   ]
  },
  {
   "cell_type": "code",
   "execution_count": 3,
   "id": "ccf02635",
   "metadata": {},
   "outputs": [
    {
     "data": {
      "text/plain": [
       "'you ready ?'"
      ]
     },
     "execution_count": 3,
     "metadata": {},
     "output_type": "execute_result"
    }
   ],
   "source": [
    "myChat.chatWithMyChat(\"hello\")"
   ]
  },
  {
   "cell_type": "code",
   "execution_count": 6,
   "id": "98045d31",
   "metadata": {},
   "outputs": [
    {
     "data": {
      "text/plain": [
       "'is he staying the night ?'"
      ]
     },
     "execution_count": 6,
     "metadata": {},
     "output_type": "execute_result"
    }
   ],
   "source": [
    "myChat.chatWithRandom()[0]"
   ]
  },
  {
   "cell_type": "code",
   "execution_count": 2,
   "id": "7bf5e69b",
   "metadata": {},
   "outputs": [
    {
     "name": "stdout",
     "output_type": "stream",
     "text": [
      "> hello?\n",
      "Bot: hello sidney .\n",
      "> is he staying the night\n",
      "Bot: funny . i ll be down in there .\n",
      "> quit\n"
     ]
    }
   ],
   "source": [
    "myChat.evaluateInput()"
   ]
  },
  {
   "cell_type": "code",
   "execution_count": null,
   "id": "df335515",
   "metadata": {},
   "outputs": [],
   "source": []
  }
 ],
 "metadata": {
  "kernelspec": {
   "display_name": "Python [conda env:go-python]",
   "language": "python",
   "name": "conda-env-go-python-py"
  },
  "language_info": {
   "codemirror_mode": {
    "name": "ipython",
    "version": 3
   },
   "file_extension": ".py",
   "mimetype": "text/x-python",
   "name": "python",
   "nbconvert_exporter": "python",
   "pygments_lexer": "ipython3",
   "version": "3.7.11"
  }
 },
 "nbformat": 4,
 "nbformat_minor": 5
}
